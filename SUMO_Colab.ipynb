{
  "nbformat": 4,
  "nbformat_minor": 0,
  "metadata": {
    "colab": {
      "provenance": [],
      "authorship_tag": "ABX9TyMe17RkOE057kawaYGlMX0p",
      "include_colab_link": true
    },
    "kernelspec": {
      "name": "python3",
      "display_name": "Python 3"
    },
    "language_info": {
      "name": "python"
    }
  },
  "cells": [
    {
      "cell_type": "markdown",
      "metadata": {
        "id": "view-in-github",
        "colab_type": "text"
      },
      "source": [
        "<a href=\"https://colab.research.google.com/github/M-Colley/pedsumo/blob/main/SUMO_Colab.ipynb\" target=\"_parent\"><img src=\"https://colab.research.google.com/assets/colab-badge.svg\" alt=\"Open In Colab\"/></a>"
      ]
    },
    {
      "cell_type": "code",
      "source": [
        "# load newest version for performance upgrades\n",
        "!pip install pandas --upgrade"
      ],
      "metadata": {
        "id": "c45ljEAQAA1m",
        "colab": {
          "base_uri": "https://localhost:8080/"
        },
        "outputId": "b82d8481-fa73-43dd-82ac-c713af679774"
      },
      "execution_count": 1,
      "outputs": [
        {
          "output_type": "stream",
          "name": "stdout",
          "text": [
            "Requirement already satisfied: pandas in /usr/local/lib/python3.10/dist-packages (2.2.1)\n",
            "Requirement already satisfied: numpy<2,>=1.22.4 in /usr/local/lib/python3.10/dist-packages (from pandas) (1.26.4)\n",
            "Requirement already satisfied: python-dateutil>=2.8.2 in /usr/local/lib/python3.10/dist-packages (from pandas) (2.8.2)\n",
            "Requirement already satisfied: pytz>=2020.1 in /usr/local/lib/python3.10/dist-packages (from pandas) (2023.4)\n",
            "Requirement already satisfied: tzdata>=2022.7 in /usr/local/lib/python3.10/dist-packages (from pandas) (2024.1)\n",
            "Requirement already satisfied: six>=1.5 in /usr/local/lib/python3.10/dist-packages (from python-dateutil>=2.8.2->pandas) (1.16.0)\n"
          ]
        }
      ]
    },
    {
      "cell_type": "code",
      "execution_count": 2,
      "metadata": {
        "colab": {
          "base_uri": "https://localhost:8080/"
        },
        "id": "TSK-4qaooiHz",
        "outputId": "fbcb7091-97e3-41e5-ddb0-387573a7ba7a"
      },
      "outputs": [
        {
          "output_type": "stream",
          "name": "stdout",
          "text": [
            "Repository: 'deb https://ppa.launchpadcontent.net/sumo/stable/ubuntu/ jammy main'\n",
            "Description:\n",
            "SUMO is a highly portable, microscopic traffic simulation package designed to handle large road networks. SUMO is open source, licensed under the EPLv2.\n",
            "More info: https://launchpad.net/~sumo/+archive/ubuntu/stable\n",
            "Adding repository.\n",
            "Found existing deb entry in /etc/apt/sources.list.d/sumo-ubuntu-stable-jammy.list\n",
            "Adding deb entry to /etc/apt/sources.list.d/sumo-ubuntu-stable-jammy.list\n",
            "Found existing deb-src entry in /etc/apt/sources.list.d/sumo-ubuntu-stable-jammy.list\n",
            "Adding disabled deb-src entry to /etc/apt/sources.list.d/sumo-ubuntu-stable-jammy.list\n",
            "Adding key to /etc/apt/trusted.gpg.d/sumo-ubuntu-stable.gpg with fingerprint 4B339D18DD12CA62CA0E400F87637B2A34012D7A\n",
            "Hit:1 https://cloud.r-project.org/bin/linux/ubuntu jammy-cran40/ InRelease\n",
            "Hit:2 https://developer.download.nvidia.com/compute/cuda/repos/ubuntu2204/x86_64  InRelease\n",
            "Get:3 http://security.ubuntu.com/ubuntu jammy-security InRelease [110 kB]\n",
            "Hit:4 http://archive.ubuntu.com/ubuntu jammy InRelease\n",
            "Get:5 http://archive.ubuntu.com/ubuntu jammy-updates InRelease [119 kB]\n",
            "Hit:6 https://ppa.launchpadcontent.net/c2d4u.team/c2d4u4.0+/ubuntu jammy InRelease\n",
            "Hit:7 https://ppa.launchpadcontent.net/deadsnakes/ppa/ubuntu jammy InRelease\n",
            "Hit:8 https://ppa.launchpadcontent.net/graphics-drivers/ppa/ubuntu jammy InRelease\n",
            "Hit:9 http://archive.ubuntu.com/ubuntu jammy-backports InRelease\n",
            "Hit:10 https://ppa.launchpadcontent.net/sumo/stable/ubuntu jammy InRelease\n",
            "Hit:11 https://ppa.launchpadcontent.net/ubuntugis/ppa/ubuntu jammy InRelease\n",
            "Fetched 229 kB in 2s (102 kB/s)\n",
            "Reading package lists... Done\n",
            "Hit:1 https://cloud.r-project.org/bin/linux/ubuntu jammy-cran40/ InRelease\n",
            "Hit:2 https://developer.download.nvidia.com/compute/cuda/repos/ubuntu2204/x86_64  InRelease\n",
            "Hit:3 http://archive.ubuntu.com/ubuntu jammy InRelease\n",
            "Hit:4 http://security.ubuntu.com/ubuntu jammy-security InRelease\n",
            "Hit:5 http://archive.ubuntu.com/ubuntu jammy-updates InRelease\n",
            "Hit:6 http://archive.ubuntu.com/ubuntu jammy-backports InRelease\n",
            "Hit:7 https://ppa.launchpadcontent.net/c2d4u.team/c2d4u4.0+/ubuntu jammy InRelease\n",
            "Hit:8 https://ppa.launchpadcontent.net/deadsnakes/ppa/ubuntu jammy InRelease\n",
            "Hit:9 https://ppa.launchpadcontent.net/graphics-drivers/ppa/ubuntu jammy InRelease\n",
            "Hit:10 https://ppa.launchpadcontent.net/sumo/stable/ubuntu jammy InRelease\n",
            "Hit:11 https://ppa.launchpadcontent.net/ubuntugis/ppa/ubuntu jammy InRelease\n",
            "Reading package lists... Done\n",
            "Reading package lists... Done\n",
            "Building dependency tree... Done\n",
            "Reading state information... Done\n",
            "sumo is already the newest version (1.19.0-1).\n",
            "sumo-doc is already the newest version (1.19.0-1).\n",
            "sumo-tools is already the newest version (1.19.0-1).\n",
            "0 upgraded, 0 newly installed, 0 to remove and 38 not upgraded.\n"
          ]
        }
      ],
      "source": [
        "!sudo add-apt-repository --yes ppa:sumo/stable\n",
        "!sudo apt-get update\n",
        "!sudo apt-get install sumo sumo-tools sumo-doc"
      ]
    },
    {
      "cell_type": "code",
      "source": [
        "!pip install traci"
      ],
      "metadata": {
        "colab": {
          "base_uri": "https://localhost:8080/"
        },
        "id": "O5fIYtxK_poY",
        "outputId": "6bd50fe2-e89d-47c0-a030-4cea9ad2cac5"
      },
      "execution_count": 3,
      "outputs": [
        {
          "output_type": "stream",
          "name": "stdout",
          "text": [
            "Requirement already satisfied: traci in /usr/local/lib/python3.10/dist-packages (1.19.0)\n",
            "Requirement already satisfied: sumolib>=1.19.0 in /usr/local/lib/python3.10/dist-packages (from traci) (1.19.0)\n"
          ]
        }
      ]
    },
    {
      "cell_type": "code",
      "source": [
        "#Declare the environment variable, SUMO_HOME\n",
        "import os\n",
        "os.environ['SUMO_HOME'] = \"/usr/share/sumo\""
      ],
      "metadata": {
        "id": "Km2I_R5r_tCm"
      },
      "execution_count": 4,
      "outputs": []
    },
    {
      "cell_type": "code",
      "source": [
        "# check SUMO version, should be 1.17.0 or higher\n",
        "!sumo"
      ],
      "metadata": {
        "id": "6CFgjK_q9exO",
        "colab": {
          "base_uri": "https://localhost:8080/"
        },
        "outputId": "7b545532-5b4b-45ae-fdce-f2748701b4dc"
      },
      "execution_count": 17,
      "outputs": [
        {
          "output_type": "stream",
          "name": "stdout",
          "text": [
            "Eclipse SUMO sumo Version 1.19.0\n",
            " Build features: Linux-5.4.0-164-generic x86_64 GNU 11.4.0 Release FMI Proj GUI Intl SWIG GDAL GL2PS Eigen\n",
            " Copyright (C) 2001-2023 German Aerospace Center (DLR) and others; https://sumo.dlr.de\n",
            " License EPL-2.0: Eclipse Public License Version 2 <https://eclipse.org/legal/epl-v20.html>\n",
            " Use --help to get the list of options.\n"
          ]
        }
      ]
    },
    {
      "cell_type": "code",
      "source": [
        "!git clone --recursive https://github.com/M-Colley/pedsumo.git"
      ],
      "metadata": {
        "id": "N1axEe2lyYSp",
        "colab": {
          "base_uri": "https://localhost:8080/"
        },
        "outputId": "9bb6fe84-7763-4287-ecb6-9f1a57f2b9d8"
      },
      "execution_count": 6,
      "outputs": [
        {
          "output_type": "stream",
          "name": "stdout",
          "text": [
            "fatal: destination path 'pedsumo' already exists and is not an empty directory.\n"
          ]
        }
      ]
    },
    {
      "cell_type": "code",
      "source": [
        "%cd pedsumo"
      ],
      "metadata": {
        "colab": {
          "base_uri": "https://localhost:8080/"
        },
        "id": "HS8zhdLaG1Td",
        "outputId": "ac0b0cf8-e8bd-4c73-d4a8-c71b45dd11ed"
      },
      "execution_count": 7,
      "outputs": [
        {
          "output_type": "stream",
          "name": "stdout",
          "text": [
            "/content/pedsumo\n"
          ]
        }
      ]
    },
    {
      "cell_type": "code",
      "source": [
        "!pip install -r requirements.txt"
      ],
      "metadata": {
        "id": "YLtebNwc_BzS",
        "colab": {
          "base_uri": "https://localhost:8080/"
        },
        "outputId": "3ae19e58-4ff8-471a-966b-34b38ebd7596"
      },
      "execution_count": 8,
      "outputs": [
        {
          "output_type": "stream",
          "name": "stdout",
          "text": [
            "Requirement already satisfied: PySimpleGUI in /usr/local/lib/python3.10/dist-packages (from -r requirements.txt (line 1)) (5.0.3)\n",
            "Requirement already satisfied: matplotlib>=3.8.2 in /usr/local/lib/python3.10/dist-packages (from -r requirements.txt (line 2)) (3.8.3)\n",
            "Requirement already satisfied: pandas>=2.1.4 in /usr/local/lib/python3.10/dist-packages (from -r requirements.txt (line 3)) (2.2.1)\n",
            "Requirement already satisfied: numpy>=1.26.3 in /usr/local/lib/python3.10/dist-packages (from -r requirements.txt (line 4)) (1.26.4)\n",
            "Requirement already satisfied: screeninfo in /usr/local/lib/python3.10/dist-packages (from -r requirements.txt (line 5)) (0.8.1)\n",
            "Requirement already satisfied: rsa in /usr/local/lib/python3.10/dist-packages (from PySimpleGUI->-r requirements.txt (line 1)) (4.9)\n",
            "Requirement already satisfied: contourpy>=1.0.1 in /usr/local/lib/python3.10/dist-packages (from matplotlib>=3.8.2->-r requirements.txt (line 2)) (1.2.0)\n",
            "Requirement already satisfied: cycler>=0.10 in /usr/local/lib/python3.10/dist-packages (from matplotlib>=3.8.2->-r requirements.txt (line 2)) (0.12.1)\n",
            "Requirement already satisfied: fonttools>=4.22.0 in /usr/local/lib/python3.10/dist-packages (from matplotlib>=3.8.2->-r requirements.txt (line 2)) (4.49.0)\n",
            "Requirement already satisfied: kiwisolver>=1.3.1 in /usr/local/lib/python3.10/dist-packages (from matplotlib>=3.8.2->-r requirements.txt (line 2)) (1.4.5)\n",
            "Requirement already satisfied: packaging>=20.0 in /usr/local/lib/python3.10/dist-packages (from matplotlib>=3.8.2->-r requirements.txt (line 2)) (23.2)\n",
            "Requirement already satisfied: pillow>=8 in /usr/local/lib/python3.10/dist-packages (from matplotlib>=3.8.2->-r requirements.txt (line 2)) (9.4.0)\n",
            "Requirement already satisfied: pyparsing>=2.3.1 in /usr/local/lib/python3.10/dist-packages (from matplotlib>=3.8.2->-r requirements.txt (line 2)) (3.1.2)\n",
            "Requirement already satisfied: python-dateutil>=2.7 in /usr/local/lib/python3.10/dist-packages (from matplotlib>=3.8.2->-r requirements.txt (line 2)) (2.8.2)\n",
            "Requirement already satisfied: pytz>=2020.1 in /usr/local/lib/python3.10/dist-packages (from pandas>=2.1.4->-r requirements.txt (line 3)) (2023.4)\n",
            "Requirement already satisfied: tzdata>=2022.7 in /usr/local/lib/python3.10/dist-packages (from pandas>=2.1.4->-r requirements.txt (line 3)) (2024.1)\n",
            "Requirement already satisfied: six>=1.5 in /usr/local/lib/python3.10/dist-packages (from python-dateutil>=2.7->matplotlib>=3.8.2->-r requirements.txt (line 2)) (1.16.0)\n",
            "Requirement already satisfied: pyasn1>=0.1.3 in /usr/local/lib/python3.10/dist-packages (from rsa->PySimpleGUI->-r requirements.txt (line 1)) (0.5.1)\n"
          ]
        }
      ]
    },
    {
      "cell_type": "code",
      "source": [
        "# if LLM-based assessment of the crossing propability is wanted, then the following requirements have to be installed additionally\n",
        "#!pip install -r requirements_llm.txt"
      ],
      "metadata": {
        "id": "KzXL9bNKBLXo"
      },
      "execution_count": 9,
      "outputs": []
    },
    {
      "cell_type": "code",
      "source": [
        "%cd SumoWithAVs"
      ],
      "metadata": {
        "id": "5ZTUDttL-1nY",
        "colab": {
          "base_uri": "https://localhost:8080/"
        },
        "outputId": "47d9f0b2-d0a4-4753-8fc6-efe70fab2e5a"
      },
      "execution_count": 9,
      "outputs": [
        {
          "output_type": "stream",
          "name": "stdout",
          "text": [
            "/content/pedsumo/SumoWithAVs\n"
          ]
        }
      ]
    },
    {
      "cell_type": "code",
      "source": [
        "# to avoid some warnings - not really necessary\n",
        "#!pip install tensorrt"
      ],
      "metadata": {
        "id": "9ZFWLLDZEapg"
      },
      "execution_count": 11,
      "outputs": []
    },
    {
      "cell_type": "code",
      "source": [
        "# for documentation\n",
        "!python main.py --help"
      ],
      "metadata": {
        "id": "sg6LH4rb_IYl",
        "colab": {
          "base_uri": "https://localhost:8080/"
        },
        "outputId": "5ee067f0-8a4d-4add-9fd3-711677c37043"
      },
      "execution_count": 10,
      "outputs": [
        {
          "output_type": "stream",
          "name": "stdout",
          "text": [
            "2024-03-13 12:06:45.573821: E external/local_xla/xla/stream_executor/cuda/cuda_dnn.cc:9261] Unable to register cuDNN factory: Attempting to register factory for plugin cuDNN when one has already been registered\n",
            "2024-03-13 12:06:45.573895: E external/local_xla/xla/stream_executor/cuda/cuda_fft.cc:607] Unable to register cuFFT factory: Attempting to register factory for plugin cuFFT when one has already been registered\n",
            "2024-03-13 12:06:45.575471: E external/local_xla/xla/stream_executor/cuda/cuda_blas.cc:1515] Unable to register cuBLAS factory: Attempting to register factory for plugin cuBLAS when one has already been registered\n",
            "2024-03-13 12:06:47.516315: W tensorflow/compiler/tf2tensorrt/utils/py_utils.cc:38] TF-TRT Warning: Could not find TensorRT\n",
            "usage: main.py [-h] [--nogui] [-v {none,sparse,normal,verbose}]\n",
            "               [--scenario {Small_Test_Network,Ingolstadt,Ulm,Bologna_small,Wildau,Monaco,Manhattan}]\n",
            "               [--scenario_path SCENARIO_PATH] [--time_steps TIME_STEPS]\n",
            "               [--routing-threads ROUTING_THREADS] [--rerouting-threads REROUTING_THREADS] [-l]\n",
            "               [--av_step_size {[0.0,1.0]}] [--ehmi_step_size {[0.0,1.0]}]\n",
            "               [--defiance_step_size {[0.0,1.0]}] [--density {[0.0,1.0]}] [--defiance {[0.0,1.0]}]\n",
            "               [--ehmi {[0.0,1.0]}] [--prob_computation {normal,llm}]\n",
            "               [--transformers_model TRANSFORMERS_MODEL]\n",
            "\n",
            "options:\n",
            "  -h, --help            show this help message and exit\n",
            "  --nogui               run the commandline version of sumo\n",
            "  -v {none,sparse,normal,verbose}, --verbosity {none,sparse,normal,verbose}\n",
            "                        verbosity of the command line output. Options are none, sparse, normal\n",
            "                        (default) and verbose\n",
            "  --scenario {Small_Test_Network,Ingolstadt,Ulm,Bologna_small,Wildau,Monaco,Manhattan}\n",
            "                        default = Small_Test_Network. Defines the scenario you want to simulate.\n",
            "                        Choices are: ['Small_Test_Network', 'Ingolstadt', 'Ulm', 'Bologna_small',\n",
            "                        'Wildau', 'Monaco', 'Manhattan']\n",
            "  --scenario_path SCENARIO_PATH\n",
            "                        Alternative to --scenario: defines the path to the .sumocfg you want to\n",
            "                        simulate. Value should be an existing path to a valid .sumocfg file.\n",
            "  --time_steps TIME_STEPS\n",
            "                        Defines the amount of seconds simulated, after which the simulation will\n",
            "                        terminate. Does not equal real time seconds. A value of 3600 would mean\n",
            "                        that one hour would get simulated.\n",
            "  --routing-threads ROUTING_THREADS\n",
            "                        Activates routing multithreading. Needs number of cores to utilize.\n",
            "  --rerouting-threads REROUTING_THREADS\n",
            "                        Activates rerouting multithreading. Needs number of cores to utilize.\n",
            "  --prob_computation {normal,llm}\n",
            "                        Method to determine the probability for a pedestrian to cross. Options are\n",
            "                        normal (default) and llm.\n",
            "  --transformers_model TRANSFORMERS_MODEL\n",
            "                        Allows to specify which transformers model to use. Only relevant if\n",
            "                        prob_computation is set to llm. Attention: Make sure that your hardware\n",
            "                        supports the model and that the model is supported by the transformers\n",
            "                        pipeline method.\n",
            "\n",
            "loop options:\n",
            "  -l, --loop            run the simulation multiple times in a row, looping through av_density,\n",
            "                        ehmi_density and base_automated_vehicle_defiance.\n",
            "  --av_step_size {[0.0,1.0]}\n",
            "                        default = 0.1. Only useful when the --loop option is set. Defines the step\n",
            "                        size for the density of automated vehicles in the loop. Value should be\n",
            "                        between 0.0 and 1.0 as float. Setting this value to exactly 0.0 disables\n",
            "                        looping over av_density instead.\n",
            "  --ehmi_step_size {[0.0,1.0]}\n",
            "                        default = 0.1. Only useful when the --loop option is set. Defines the step\n",
            "                        size for the density of automated vehicles with ehmi in the loop. Value\n",
            "                        should be between 0.0 and 1.0 as float. Setting this value to exactly 0.0\n",
            "                        disables looping over ehmi_density instead.\n",
            "  --defiance_step_size {[0.0,1.0]}\n",
            "                        default = 0.1. Only useful when the --loop option is set. Defines the step\n",
            "                        size for the base automated vehicle defiance in the loop.Value should be\n",
            "                        between 0.0 and 1.0 as float.Setting this value to exactly 0.0 disables\n",
            "                        looping over this variable instead.\n",
            "  --density {[0.0,1.0]}\n",
            "                        default = 0.0. Only useful when combined with the --loop option. Defines\n",
            "                        the lower bound for the used av_density in the loop. Value should be\n",
            "                        between 0.0 and 1.0 as float.\n",
            "  --defiance {[0.0,1.0]}\n",
            "                        default = 0.0. Only useful when combined with the --loop option. Defines\n",
            "                        the lower bound for the used base_automated_vehicle_defiance in the loop.\n",
            "                        Value should be between 0.0 and 1.0 as float.\n",
            "  --ehmi {[0.0,1.0]}    default = 0.0. Only useful when combined with the --loop option.Defines\n",
            "                        the lower bound for the used ehmi_density in the loop.Value should be\n",
            "                        between 0.0 and 1.0 as float.\n"
          ]
        }
      ]
    },
    {
      "cell_type": "code",
      "source": [
        "# check whether all necessary files were cloned\n",
        "os.listdir(\"../resources/ulm/UlmCity/\")"
      ],
      "metadata": {
        "colab": {
          "base_uri": "https://localhost:8080/"
        },
        "id": "HsMYfd2_t-3C",
        "outputId": "92b3a328-49d8-427b-8db4-2380d5617edd"
      },
      "execution_count": 16,
      "outputs": [
        {
          "output_type": "execute_result",
          "data": {
            "text/plain": [
              "['UlmCity']"
            ]
          },
          "metadata": {},
          "execution_count": 16
        }
      ]
    },
    {
      "cell_type": "code",
      "source": [
        "# only a non-GUI version is possible on Google Colab\n",
        "!python main.py --nogui --scenario Ulm"
      ],
      "metadata": {
        "id": "16hlog5UERO6",
        "colab": {
          "base_uri": "https://localhost:8080/"
        },
        "outputId": "583c1e07-acc3-4869-9e04-989f883f8496"
      },
      "execution_count": 11,
      "outputs": [
        {
          "output_type": "stream",
          "name": "stdout",
          "text": [
            "2024-03-13 12:07:19.908805: E external/local_xla/xla/stream_executor/cuda/cuda_dnn.cc:9261] Unable to register cuDNN factory: Attempting to register factory for plugin cuDNN when one has already been registered\n",
            "2024-03-13 12:07:19.908879: E external/local_xla/xla/stream_executor/cuda/cuda_fft.cc:607] Unable to register cuFFT factory: Attempting to register factory for plugin cuFFT when one has already been registered\n",
            "2024-03-13 12:07:19.910411: E external/local_xla/xla/stream_executor/cuda/cuda_blas.cc:1515] Unable to register cuBLAS factory: Attempting to register factory for plugin cuBLAS when one has already been registered\n",
            "2024-03-13 12:07:21.526344: W tensorflow/compiler/tf2tensorrt/utils/py_utils.cc:38] TF-TRT Warning: Could not find TensorRT\n",
            " Retrying in 1 seconds\n",
            "Error: Could not access configuration '../resources/ulm/UlmCity/osm.sumocfg'.\n",
            "Quitting (on error).\n",
            "/usr/local/lib/python3.10/dist-packages/traci/main.py:154: UserWarning: Could not connect to TraCI server using port 34101 (TraCI server already finished). Retrying with different port.\n",
            "  warnings.warn((\"Could not connect to TraCI server using port %s (%s).\" +\n",
            " Retrying in 1 seconds\n",
            "Error: Could not access configuration '../resources/ulm/UlmCity/osm.sumocfg'.\n",
            "Quitting (on error).\n",
            "/usr/local/lib/python3.10/dist-packages/traci/main.py:154: UserWarning: Could not connect to TraCI server using port 48491 (TraCI server already finished). Retrying with different port.\n",
            "  warnings.warn((\"Could not connect to TraCI server using port %s (%s).\" +\n",
            " Retrying in 1 seconds\n",
            "Error: Could not access configuration '../resources/ulm/UlmCity/osm.sumocfg'.\n",
            "Quitting (on error).\n",
            "/usr/local/lib/python3.10/dist-packages/traci/main.py:154: UserWarning: Could not connect to TraCI server using port 41693 (TraCI server already finished). Retrying with different port.\n",
            "  warnings.warn((\"Could not connect to TraCI server using port %s (%s).\" +\n",
            " Retrying in 1 seconds\n",
            "Error: Could not access configuration '../resources/ulm/UlmCity/osm.sumocfg'.\n",
            "Quitting (on error).\n",
            "/usr/local/lib/python3.10/dist-packages/traci/main.py:154: UserWarning: Could not connect to TraCI server using port 46317 (TraCI server already finished). Retrying with different port.\n",
            "  warnings.warn((\"Could not connect to TraCI server using port %s (%s).\" +\n",
            " Retrying in 1 seconds\n",
            "Error: Could not access configuration '../resources/ulm/UlmCity/osm.sumocfg'.\n",
            "Quitting (on error).\n",
            "/usr/local/lib/python3.10/dist-packages/traci/main.py:154: UserWarning: Could not connect to TraCI server using port 52265 (TraCI server already finished). Retrying with different port.\n",
            "  warnings.warn((\"Could not connect to TraCI server using port %s (%s).\" +\n",
            " Retrying in 1 seconds\n",
            "Error: Could not access configuration '../resources/ulm/UlmCity/osm.sumocfg'.\n",
            "Quitting (on error).\n",
            "/usr/local/lib/python3.10/dist-packages/traci/main.py:154: UserWarning: Could not connect to TraCI server using port 43905 (TraCI server already finished). Retrying with different port.\n",
            "  warnings.warn((\"Could not connect to TraCI server using port %s (%s).\" +\n",
            " Retrying in 1 seconds\n",
            "Error: Could not access configuration '../resources/ulm/UlmCity/osm.sumocfg'.\n",
            "Quitting (on error).\n",
            "/usr/local/lib/python3.10/dist-packages/traci/main.py:154: UserWarning: Could not connect to TraCI server using port 33299 (TraCI server already finished). Retrying with different port.\n",
            "  warnings.warn((\"Could not connect to TraCI server using port %s (%s).\" +\n",
            " Retrying in 1 seconds\n",
            "Error: Could not access configuration '../resources/ulm/UlmCity/osm.sumocfg'.\n",
            "Quitting (on error).\n",
            "/usr/local/lib/python3.10/dist-packages/traci/main.py:154: UserWarning: Could not connect to TraCI server using port 36693 (TraCI server already finished). Retrying with different port.\n",
            "  warnings.warn((\"Could not connect to TraCI server using port %s (%s).\" +\n",
            " Retrying in 1 seconds\n",
            "Error: Could not access configuration '../resources/ulm/UlmCity/osm.sumocfg'.\n",
            "Quitting (on error).\n",
            "/usr/local/lib/python3.10/dist-packages/traci/main.py:154: UserWarning: Could not connect to TraCI server using port 53825 (TraCI server already finished). Retrying with different port.\n",
            "  warnings.warn((\"Could not connect to TraCI server using port %s (%s).\" +\n",
            " Retrying in 1 seconds\n",
            "Error: Could not access configuration '../resources/ulm/UlmCity/osm.sumocfg'.\n",
            "Quitting (on error).\n",
            "/usr/local/lib/python3.10/dist-packages/traci/main.py:154: UserWarning: Could not connect to TraCI server using port 44153 (TraCI server already finished). Retrying with different port.\n",
            "  warnings.warn((\"Could not connect to TraCI server using port %s (%s).\" +\n",
            " Retrying in 1 seconds\n",
            "Error: Could not access configuration '../resources/ulm/UlmCity/osm.sumocfg'.\n",
            "Quitting (on error).\n",
            "/usr/local/lib/python3.10/dist-packages/traci/main.py:154: UserWarning: Could not connect to TraCI server using port 35999 (TraCI server already finished). Retrying with different port.\n",
            "  warnings.warn((\"Could not connect to TraCI server using port %s (%s).\" +\n",
            " Retrying in 1 seconds\n",
            "Error: Could not access configuration '../resources/ulm/UlmCity/osm.sumocfg'.\n",
            "Quitting (on error).\n",
            "/usr/local/lib/python3.10/dist-packages/traci/main.py:154: UserWarning: Could not connect to TraCI server using port 39167 (TraCI server already finished). Retrying with different port.\n",
            "  warnings.warn((\"Could not connect to TraCI server using port %s (%s).\" +\n",
            " Retrying in 1 seconds\n",
            "Error: Could not access configuration '../resources/ulm/UlmCity/osm.sumocfg'.\n",
            "Quitting (on error).\n",
            "/usr/local/lib/python3.10/dist-packages/traci/main.py:154: UserWarning: Could not connect to TraCI server using port 44639 (TraCI server already finished). Retrying with different port.\n",
            "  warnings.warn((\"Could not connect to TraCI server using port %s (%s).\" +\n",
            " Retrying in 1 seconds\n",
            "Error: Could not access configuration '../resources/ulm/UlmCity/osm.sumocfg'.\n",
            "Quitting (on error).\n",
            "/usr/local/lib/python3.10/dist-packages/traci/main.py:154: UserWarning: Could not connect to TraCI server using port 33509 (TraCI server already finished). Retrying with different port.\n",
            "  warnings.warn((\"Could not connect to TraCI server using port %s (%s).\" +\n",
            " Retrying in 1 seconds\n",
            "Error: Could not access configuration '../resources/ulm/UlmCity/osm.sumocfg'.\n",
            "Quitting (on error).\n",
            "/usr/local/lib/python3.10/dist-packages/traci/main.py:154: UserWarning: Could not connect to TraCI server using port 46355 (TraCI server already finished). Retrying with different port.\n",
            "  warnings.warn((\"Could not connect to TraCI server using port %s (%s).\" +\n",
            " Retrying in 1 seconds\n",
            "Error: Could not access configuration '../resources/ulm/UlmCity/osm.sumocfg'.\n",
            "Quitting (on error).\n",
            "/usr/local/lib/python3.10/dist-packages/traci/main.py:154: UserWarning: Could not connect to TraCI server using port 38147 (TraCI server already finished). Retrying with different port.\n",
            "  warnings.warn((\"Could not connect to TraCI server using port %s (%s).\" +\n",
            " Retrying in 1 seconds\n",
            "Error: Could not access configuration '../resources/ulm/UlmCity/osm.sumocfg'.\n",
            "Quitting (on error).\n",
            "/usr/local/lib/python3.10/dist-packages/traci/main.py:154: UserWarning: Could not connect to TraCI server using port 49591 (TraCI server already finished). Retrying with different port.\n",
            "  warnings.warn((\"Could not connect to TraCI server using port %s (%s).\" +\n",
            " Retrying in 1 seconds\n",
            "Error: Could not access configuration '../resources/ulm/UlmCity/osm.sumocfg'.\n",
            "Quitting (on error).\n",
            "/usr/local/lib/python3.10/dist-packages/traci/main.py:154: UserWarning: Could not connect to TraCI server using port 38047 (TraCI server already finished). Retrying with different port.\n",
            "  warnings.warn((\"Could not connect to TraCI server using port %s (%s).\" +\n",
            " Retrying in 1 seconds\n",
            "Error: Could not access configuration '../resources/ulm/UlmCity/osm.sumocfg'.\n",
            "Quitting (on error).\n",
            "/usr/local/lib/python3.10/dist-packages/traci/main.py:154: UserWarning: Could not connect to TraCI server using port 57007 (TraCI server already finished). Retrying with different port.\n",
            "  warnings.warn((\"Could not connect to TraCI server using port %s (%s).\" +\n",
            " Retrying in 1 seconds\n",
            "Error: Could not access configuration '../resources/ulm/UlmCity/osm.sumocfg'.\n",
            "Quitting (on error).\n",
            "/usr/local/lib/python3.10/dist-packages/traci/main.py:154: UserWarning: Could not connect to TraCI server using port 51645 (TraCI server already finished). Retrying with different port.\n",
            "  warnings.warn((\"Could not connect to TraCI server using port %s (%s).\" +\n",
            " Retrying in 1 seconds\n",
            "Error: Could not access configuration '../resources/ulm/UlmCity/osm.sumocfg'.\n",
            "Quitting (on error).\n",
            "/usr/local/lib/python3.10/dist-packages/traci/main.py:154: UserWarning: Could not connect to TraCI server using port 53269 (TraCI server already finished). Retrying with different port.\n",
            "  warnings.warn((\"Could not connect to TraCI server using port %s (%s).\" +\n",
            " Retrying in 1 seconds\n",
            "Error: Could not access configuration '../resources/ulm/UlmCity/osm.sumocfg'.\n",
            "Quitting (on error).\n",
            "/usr/local/lib/python3.10/dist-packages/traci/main.py:154: UserWarning: Could not connect to TraCI server using port 41941 (TraCI server already finished). Retrying with different port.\n",
            "  warnings.warn((\"Could not connect to TraCI server using port %s (%s).\" +\n",
            " Retrying in 1 seconds\n",
            "Error: Could not access configuration '../resources/ulm/UlmCity/osm.sumocfg'.\n",
            "Quitting (on error).\n",
            "/usr/local/lib/python3.10/dist-packages/traci/main.py:154: UserWarning: Could not connect to TraCI server using port 43521 (TraCI server already finished). Retrying with different port.\n",
            "  warnings.warn((\"Could not connect to TraCI server using port %s (%s).\" +\n",
            " Retrying in 1 seconds\n",
            "Error: Could not access configuration '../resources/ulm/UlmCity/osm.sumocfg'.\n",
            "Quitting (on error).\n",
            "/usr/local/lib/python3.10/dist-packages/traci/main.py:154: UserWarning: Could not connect to TraCI server using port 33135 (TraCI server already finished). Retrying with different port.\n",
            "  warnings.warn((\"Could not connect to TraCI server using port %s (%s).\" +\n",
            " Retrying in 1 seconds\n",
            "Error: Could not access configuration '../resources/ulm/UlmCity/osm.sumocfg'.\n",
            "Quitting (on error).\n",
            "/usr/local/lib/python3.10/dist-packages/traci/main.py:154: UserWarning: Could not connect to TraCI server using port 47025 (TraCI server already finished). Retrying with different port.\n",
            "  warnings.warn((\"Could not connect to TraCI server using port %s (%s).\" +\n",
            " Retrying in 1 seconds\n",
            "Error: Could not access configuration '../resources/ulm/UlmCity/osm.sumocfg'.\n",
            "Quitting (on error).\n",
            "/usr/local/lib/python3.10/dist-packages/traci/main.py:154: UserWarning: Could not connect to TraCI server using port 41359 (TraCI server already finished). Retrying with different port.\n",
            "  warnings.warn((\"Could not connect to TraCI server using port %s (%s).\" +\n",
            " Retrying in 1 seconds\n",
            "Error: Could not access configuration '../resources/ulm/UlmCity/osm.sumocfg'.\n",
            "Quitting (on error).\n",
            "/usr/local/lib/python3.10/dist-packages/traci/main.py:154: UserWarning: Could not connect to TraCI server using port 47617 (TraCI server already finished). Retrying with different port.\n",
            "  warnings.warn((\"Could not connect to TraCI server using port %s (%s).\" +\n",
            " Retrying in 1 seconds\n",
            "Error: Could not access configuration '../resources/ulm/UlmCity/osm.sumocfg'.\n",
            "Quitting (on error).\n",
            "/usr/local/lib/python3.10/dist-packages/traci/main.py:154: UserWarning: Could not connect to TraCI server using port 58669 (TraCI server already finished). Retrying with different port.\n",
            "  warnings.warn((\"Could not connect to TraCI server using port %s (%s).\" +\n",
            " Retrying in 1 seconds\n",
            "Error: Could not access configuration '../resources/ulm/UlmCity/osm.sumocfg'.\n",
            "Quitting (on error).\n",
            "/usr/local/lib/python3.10/dist-packages/traci/main.py:154: UserWarning: Could not connect to TraCI server using port 52237 (TraCI server already finished). Retrying with different port.\n",
            "  warnings.warn((\"Could not connect to TraCI server using port %s (%s).\" +\n",
            " Retrying in 1 seconds\n",
            "Error: Could not access configuration '../resources/ulm/UlmCity/osm.sumocfg'.\n",
            "Quitting (on error).\n",
            "/usr/local/lib/python3.10/dist-packages/traci/main.py:154: UserWarning: Could not connect to TraCI server using port 42393 (TraCI server already finished). Retrying with different port.\n",
            "  warnings.warn((\"Could not connect to TraCI server using port %s (%s).\" +\n",
            " Retrying in 1 seconds\n",
            "Error: Could not access configuration '../resources/ulm/UlmCity/osm.sumocfg'.\n",
            "Quitting (on error).\n",
            "/usr/local/lib/python3.10/dist-packages/traci/main.py:154: UserWarning: Could not connect to TraCI server using port 42385 (TraCI server already finished). Retrying with different port.\n",
            "  warnings.warn((\"Could not connect to TraCI server using port %s (%s).\" +\n",
            " Retrying in 1 seconds\n",
            "Error: Could not access configuration '../resources/ulm/UlmCity/osm.sumocfg'.\n",
            "Quitting (on error).\n",
            "/usr/local/lib/python3.10/dist-packages/traci/main.py:154: UserWarning: Could not connect to TraCI server using port 38481 (TraCI server already finished). Retrying with different port.\n",
            "  warnings.warn((\"Could not connect to TraCI server using port %s (%s).\" +\n",
            " Retrying in 1 seconds\n",
            "Error: Could not access configuration '../resources/ulm/UlmCity/osm.sumocfg'.\n",
            "Quitting (on error).\n",
            "/usr/local/lib/python3.10/dist-packages/traci/main.py:154: UserWarning: Could not connect to TraCI server using port 32913 (TraCI server already finished). Retrying with different port.\n",
            "  warnings.warn((\"Could not connect to TraCI server using port %s (%s).\" +\n",
            " Retrying in 1 seconds\n",
            "Error: Could not access configuration '../resources/ulm/UlmCity/osm.sumocfg'.\n",
            "Quitting (on error).\n",
            "Traceback (most recent call last):\n",
            "  File \"/usr/local/lib/python3.10/dist-packages/traci/main.py\", line 97, in connect\n",
            "    return connection.Connection(host, port, proc, traceFile, traceGetters, label)\n",
            "  File \"/usr/local/lib/python3.10/dist-packages/traci/connection.py\", line 83, in __init__\n",
            "    self._socket.connect((host, port))\n",
            "ConnectionRefusedError: [Errno 111] Connection refused\n",
            "\n",
            "During handling of the above exception, another exception occurred:\n",
            "\n",
            "Traceback (most recent call last):\n",
            "  File \"/content/pedsumo/SumoWithAVs/main.py\", line 1216, in <module>\n",
            "    prepare_sim()\n",
            "  File \"/content/pedsumo/SumoWithAVs/main.py\", line 1204, in prepare_sim\n",
            "\n",
            "^C\n"
          ]
        }
      ]
    }
  ]
}